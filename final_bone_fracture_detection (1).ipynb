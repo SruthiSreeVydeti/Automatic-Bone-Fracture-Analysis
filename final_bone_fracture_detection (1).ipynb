{
  "cells": [
    {
      "cell_type": "code",
      "execution_count": null,
      "metadata": {},
      "outputs": [],
      "source": []
    },
    {
      "cell_type": "code",
      "execution_count": null,
      "metadata": {
        "_cell_guid": "b1076dfc-b9ad-4769-8c92-a6c4dae69d19",
        "_uuid": "8f2839f25d086af736a60e9eeb907d3b93b6e0e5",
        "colab": {
          "base_uri": "https://localhost:8080/"
        },
        "execution": {
          "iopub.execute_input": "2024-11-05T21:13:20.763327Z",
          "iopub.status.busy": "2024-11-05T21:13:20.762474Z",
          "iopub.status.idle": "2024-11-05T21:13:20.778089Z",
          "shell.execute_reply": "2024-11-05T21:13:20.776992Z",
          "shell.execute_reply.started": "2024-11-05T21:13:20.763285Z"
        },
        "id": "Nd8dNFdRNSql",
        "outputId": "f342142b-b2d0-4d86-8931-89c126223ee8",
        "trusted": true
      },
      "outputs": [],
      "source": [
        "import os\n",
        "import zipfile\n",
        "import shutil\n",
        "import numpy as np\n",
        "import matplotlib.pyplot as plt\n",
        "from tensorflow import keras\n",
        "from tensorflow.keras.preprocessing.image import ImageDataGenerator\n",
        "from tensorflow.keras.models import Sequential\n",
        "from tensorflow.keras.layers import Conv2D, MaxPooling2D, Flatten, Dense, Dropout\n",
        "from tensorflow.keras.optimizers import Adam\n",
        "\n",
        "# importing required modules\n",
        "from zipfile import ZipFile\n",
        "\n",
        "# specifying the zip file name\n",
        "file_name = \"/content/archive (8).zip\"\n",
        "\n",
        "# opening the zip file in READ mode\n",
        "with ZipFile(file_name, 'r') as zip:\n",
        "\t# printing all the contents of the zip file\n",
        "\tzip.printdir()\n",
        "\n",
        "\t# extracting all the files\n",
        "\tprint('Extracting all the files now...')\n",
        "\tzip.extractall()\n",
        "\tprint('Done!')\n"
      ]
    },
    {
      "cell_type": "code",
      "execution_count": null,
      "metadata": {
        "colab": {
          "base_uri": "https://localhost:8080/"
        },
        "id": "KTs32kXKNjTn",
        "outputId": "7fc93689-91a5-4d11-e8eb-bc67e2a17e2e"
      },
      "outputs": [
        {
          "name": "stdout",
          "output_type": "stream",
          "text": [
            "All Libraries Imported Successfully\n"
          ]
        }
      ],
      "source": [
        "import numpy as np\n",
        "import pandas as pd\n",
        "import matplotlib.pyplot as plt\n",
        "import seaborn as sns\n",
        "import os\n",
        "import tensorflow as tf\n",
        "from pathlib import Path\n",
        "import cv2\n",
        "import time\n",
        "import random\n",
        "from PIL import Image\n",
        "\n",
        "import torch\n",
        "import torch.nn as nn\n",
        "import torch.optim as optim\n",
        "\n",
        "from torch.optim import lr_scheduler\n",
        "import torchvision\n",
        "from keras import utils\n",
        "from torchvision import datasets, transforms\n",
        "from tensorflow.keras.optimizers import SGD\n",
        "\n",
        "from tensorflow.keras.preprocessing.image import ImageDataGenerator\n",
        "from sklearn.model_selection import train_test_split\n",
        "from tensorflow.keras import optimizers\n",
        "\n",
        "from sklearn.utils.class_weight import compute_class_weight\n",
        "from tensorflow.keras.callbacks import EarlyStopping\n",
        "from tensorflow.keras.utils import to_categorical\n",
        "from tensorflow.keras import callbacks\n",
        "from tensorflow.keras.models import Sequential\n",
        "\n",
        "from tensorflow.keras.applications import VGG16\n",
        "from tensorflow.keras.applications import VGG19\n",
        "from tensorflow.keras.applications import ResNet50\n",
        "from tensorflow.keras.applications import ResNet101\n",
        "from tensorflow.keras.applications import MobileNetV2\n",
        "from tensorflow.keras.applications import InceptionResNetV2\n",
        "\n",
        "from tensorflow.keras.preprocessing import image\n",
        "from tensorflow.keras.applications.vgg16 import preprocess_input, decode_predictions\n",
        "from tensorflow.keras import layers\n",
        "from tensorflow.keras import models\n",
        "from tensorflow.keras.models import Model\n",
        "from tensorflow.keras.layers import Flatten, Dense, Activation, Dropout, BatchNormalization\n",
        "from tensorflow.keras.layers import Conv2D, MaxPooling2D, Flatten, Dense,Dropout\n",
        "from tensorflow.keras.optimizers import Adam\n",
        "from tensorflow.keras.optimizers import Adam\n",
        "\n",
        "from sklearn.metrics import confusion_matrix,classification_report,accuracy_score\n",
        "from sklearn.metrics import confusion_matrix, precision_score, recall_score, f1_score\n",
        "from sklearn.metrics import matthews_corrcoef, cohen_kappa_score\n",
        "from sklearn.metrics import confusion_matrix, ConfusionMatrixDisplay\n",
        "\n",
        "print(\"All Libraries Imported Successfully\")"
      ]
    },
    {
      "cell_type": "markdown",
      "metadata": {
        "id": "-8SDhg4vNhUv"
      },
      "source": []
    },
    {
      "cell_type": "code",
      "execution_count": null,
      "metadata": {
        "execution": {
          "iopub.execute_input": "2024-11-05T21:13:20.780377Z",
          "iopub.status.busy": "2024-11-05T21:13:20.780004Z",
          "iopub.status.idle": "2024-11-05T21:13:20.795335Z",
          "shell.execute_reply": "2024-11-05T21:13:20.794293Z",
          "shell.execute_reply.started": "2024-11-05T21:13:20.780339Z"
        },
        "id": "NtHkTauiNSqr",
        "trusted": true
      },
      "outputs": [],
      "source": [
        "data_dir= '/content/Bone Break Classification/Bone Break Classification'"
      ]
    },
    {
      "cell_type": "code",
      "execution_count": null,
      "metadata": {
        "colab": {
          "base_uri": "https://localhost:8080/"
        },
        "execution": {
          "iopub.execute_input": "2024-11-05T21:13:20.797195Z",
          "iopub.status.busy": "2024-11-05T21:13:20.796827Z",
          "iopub.status.idle": "2024-11-05T21:13:21.370895Z",
          "shell.execute_reply": "2024-11-05T21:13:21.369895Z",
          "shell.execute_reply.started": "2024-11-05T21:13:20.797160Z"
        },
        "id": "obQVNY8sNSqs",
        "outputId": "dcfcc1db-10d0-43ba-bff2-ecf10f1a5675",
        "trusted": true
      },
      "outputs": [
        {
          "name": "stdout",
          "output_type": "stream",
          "text": [
            "Found 1129 files belonging to 10 classes.\n",
            "Using 1017 files for training.\n"
          ]
        }
      ],
      "source": [
        "train_data=utils.image_dataset_from_directory(\n",
        "    data_dir,\n",
        "    labels=\"inferred\",\n",
        "    label_mode=\"int\",\n",
        "    validation_split=0.1,\n",
        "    subset=\"training\",\n",
        "    shuffle=True,\n",
        "    color_mode=\"rgb\",\n",
        "    image_size=(256,256),\n",
        "    batch_size=64,\n",
        "    seed=40,\n",
        ")"
      ]
    },
    {
      "cell_type": "code",
      "execution_count": null,
      "metadata": {
        "colab": {
          "base_uri": "https://localhost:8080/"
        },
        "execution": {
          "iopub.execute_input": "2024-11-05T21:13:21.373863Z",
          "iopub.status.busy": "2024-11-05T21:13:21.373496Z",
          "iopub.status.idle": "2024-11-05T21:13:21.503688Z",
          "shell.execute_reply": "2024-11-05T21:13:21.502677Z",
          "shell.execute_reply.started": "2024-11-05T21:13:21.373827Z"
        },
        "id": "2wQuwEs7NSqt",
        "outputId": "a1b33c0f-0333-4c46-a382-44dcda3f8dac",
        "trusted": true
      },
      "outputs": [
        {
          "name": "stdout",
          "output_type": "stream",
          "text": [
            "Found 1129 files belonging to 10 classes.\n",
            "Using 112 files for validation.\n"
          ]
        }
      ],
      "source": [
        "vald_data=utils.image_dataset_from_directory(\n",
        "    data_dir,\n",
        "    labels=\"inferred\",\n",
        "    label_mode=\"int\",\n",
        "    validation_split=0.1,\n",
        "    subset=\"validation\",\n",
        "    color_mode=\"rgb\",\n",
        "    image_size=(256,256),\n",
        "    batch_size=64,\n",
        "    seed=40,\n",
        ")"
      ]
    },
    {
      "cell_type": "code",
      "execution_count": null,
      "metadata": {
        "colab": {
          "base_uri": "https://localhost:8080/"
        },
        "execution": {
          "iopub.execute_input": "2024-11-05T21:13:21.505370Z",
          "iopub.status.busy": "2024-11-05T21:13:21.505058Z",
          "iopub.status.idle": "2024-11-05T21:13:21.613127Z",
          "shell.execute_reply": "2024-11-05T21:13:21.611619Z",
          "shell.execute_reply.started": "2024-11-05T21:13:21.505336Z"
        },
        "id": "r3fmuoMNNSqu",
        "outputId": "ba69c5e2-4a45-4dd8-e11e-d0139caa4e10",
        "trusted": true
      },
      "outputs": [
        {
          "name": "stdout",
          "output_type": "stream",
          "text": [
            "(64, 256, 256, 3)\n",
            "(64,)\n"
          ]
        }
      ],
      "source": [
        "for images,lables in train_data.take(1):\n",
        "  print(images.shape)\n",
        "  print(lables.shape)"
      ]
    },
    {
      "cell_type": "code",
      "execution_count": null,
      "metadata": {
        "colab": {
          "base_uri": "https://localhost:8080/"
        },
        "execution": {
          "iopub.execute_input": "2024-11-05T21:13:21.615136Z",
          "iopub.status.busy": "2024-11-05T21:13:21.614708Z",
          "iopub.status.idle": "2024-11-05T21:13:21.729053Z",
          "shell.execute_reply": "2024-11-05T21:13:21.727854Z",
          "shell.execute_reply.started": "2024-11-05T21:13:21.615087Z"
        },
        "id": "Htv8yECgNSqu",
        "outputId": "693bd033-f007-41f2-d4b0-ebe9db23482d",
        "trusted": true
      },
      "outputs": [
        {
          "name": "stdout",
          "output_type": "stream",
          "text": [
            "(64, 256, 256, 3)\n",
            "(64,)\n"
          ]
        }
      ],
      "source": [
        "for images,lables in vald_data.take(1):\n",
        "  print(images.shape)\n",
        "  print(lables.shape)"
      ]
    },
    {
      "cell_type": "code",
      "execution_count": null,
      "metadata": {
        "colab": {
          "base_uri": "https://localhost:8080/"
        },
        "execution": {
          "iopub.execute_input": "2024-11-05T21:13:21.731152Z",
          "iopub.status.busy": "2024-11-05T21:13:21.730701Z",
          "iopub.status.idle": "2024-11-05T21:13:21.737424Z",
          "shell.execute_reply": "2024-11-05T21:13:21.736315Z",
          "shell.execute_reply.started": "2024-11-05T21:13:21.731103Z"
        },
        "id": "6rD8nrK8NSqv",
        "outputId": "eed888c0-0f52-4bfa-f3f9-9f1e09a1414e",
        "trusted": true
      },
      "outputs": [
        {
          "name": "stdout",
          "output_type": "stream",
          "text": [
            "['Avulsion fracture', 'Comminuted fracture', 'Fracture Dislocation', 'Greenstick fracture', 'Hairline Fracture', 'Impacted fracture', 'Longitudinal fracture', 'Oblique fracture', 'Pathological fracture', 'Spiral Fracture']\n"
          ]
        }
      ],
      "source": [
        "classes=train_data.class_names\n",
        "print(classes)"
      ]
    },
    {
      "cell_type": "code",
      "execution_count": null,
      "metadata": {
        "execution": {
          "iopub.execute_input": "2024-11-05T21:13:21.739913Z",
          "iopub.status.busy": "2024-11-05T21:13:21.739089Z",
          "iopub.status.idle": "2024-11-05T21:13:21.791220Z",
          "shell.execute_reply": "2024-11-05T21:13:21.790075Z",
          "shell.execute_reply.started": "2024-11-05T21:13:21.739862Z"
        },
        "id": "H3ktulXiNSqv",
        "trusted": true
      },
      "outputs": [],
      "source": [
        "def normalize(image, label):\n",
        "  return image/255.0, label\n",
        "\n",
        "train_data = train_data.map(normalize)"
      ]
    },
    {
      "cell_type": "code",
      "execution_count": null,
      "metadata": {
        "execution": {
          "iopub.execute_input": "2024-11-05T21:13:21.794986Z",
          "iopub.status.busy": "2024-11-05T21:13:21.794579Z",
          "iopub.status.idle": "2024-11-05T21:13:21.812001Z",
          "shell.execute_reply": "2024-11-05T21:13:21.810939Z",
          "shell.execute_reply.started": "2024-11-05T21:13:21.794948Z"
        },
        "id": "63qk3I-2NSqw",
        "trusted": true
      },
      "outputs": [],
      "source": [
        "vald_data= vald_data.map(normalize)"
      ]
    },
    {
      "cell_type": "code",
      "execution_count": null,
      "metadata": {
        "colab": {
          "base_uri": "https://localhost:8080/"
        },
        "execution": {
          "iopub.execute_input": "2024-11-05T21:13:21.817429Z",
          "iopub.status.busy": "2024-11-05T21:13:21.817081Z",
          "iopub.status.idle": "2024-11-05T21:13:23.126222Z",
          "shell.execute_reply": "2024-11-05T21:13:23.124972Z",
          "shell.execute_reply.started": "2024-11-05T21:13:21.817394Z"
        },
        "id": "wOtdf-NgNSqw",
        "outputId": "db2387cd-7c5b-4821-8ec0-2ef7abb4d984",
        "trusted": true
      },
      "outputs": [
        {
          "name": "stdout",
          "output_type": "stream",
          "text": [
            "<class 'list'>\n",
            "<class 'list'>\n",
            "<class 'list'>\n",
            "<class 'list'>\n",
            "<class 'list'>\n",
            "<class 'list'>\n",
            "<class 'list'>\n",
            "<class 'list'>\n",
            "<class 'list'>\n",
            "<class 'list'>\n",
            "<class 'list'>\n",
            "<class 'list'>\n",
            "<class 'list'>\n",
            "<class 'list'>\n",
            "<class 'list'>\n",
            "<class 'list'>\n"
          ]
        }
      ],
      "source": [
        "train_x=[]\n",
        "train_y=[]\n",
        "for image,label in train_data:\n",
        "   train_x.append(image)\n",
        "   train_y.append(label)\n",
        "   print(type(train_y))\n",
        "train_x = tf.concat(train_x, axis=0)\n",
        "train_y = tf.concat(train_y, axis=0)"
      ]
    },
    {
      "cell_type": "code",
      "execution_count": null,
      "metadata": {
        "colab": {
          "base_uri": "https://localhost:8080/"
        },
        "execution": {
          "iopub.execute_input": "2024-11-05T21:13:23.127999Z",
          "iopub.status.busy": "2024-11-05T21:13:23.127632Z",
          "iopub.status.idle": "2024-11-05T21:13:23.136229Z",
          "shell.execute_reply": "2024-11-05T21:13:23.135071Z",
          "shell.execute_reply.started": "2024-11-05T21:13:23.127962Z"
        },
        "id": "yM8roYiMNSqx",
        "outputId": "63c3953c-34aa-4cc3-e72f-68e7280312b1",
        "trusted": true
      },
      "outputs": [
        {
          "name": "stdout",
          "output_type": "stream",
          "text": [
            "tf.Tensor([2 7 0 ... 8 4 2], shape=(1017,), dtype=int32)\n"
          ]
        },
        {
          "data": {
            "text/plain": [
              "tensorflow.python.framework.ops.EagerTensor"
            ]
          },
          "execution_count": 26,
          "metadata": {},
          "output_type": "execute_result"
        }
      ],
      "source": [
        "print(train_y)\n",
        "type(train_y)"
      ]
    },
    {
      "cell_type": "code",
      "execution_count": null,
      "metadata": {
        "colab": {
          "base_uri": "https://localhost:8080/"
        },
        "execution": {
          "iopub.execute_input": "2024-11-05T21:13:23.138129Z",
          "iopub.status.busy": "2024-11-05T21:13:23.137728Z",
          "iopub.status.idle": "2024-11-05T21:13:23.280463Z",
          "shell.execute_reply": "2024-11-05T21:13:23.279490Z",
          "shell.execute_reply.started": "2024-11-05T21:13:23.138090Z"
        },
        "id": "SCCK87g7NSqx",
        "outputId": "921b5de8-b09c-415c-cdb0-dbcc640ce6b3",
        "trusted": true
      },
      "outputs": [
        {
          "name": "stdout",
          "output_type": "stream",
          "text": [
            "Found 1129 files belonging to 10 classes.\n",
            "Using 1017 files for training.\n"
          ]
        }
      ],
      "source": [
        "train_data = utils.image_dataset_from_directory(\n",
        "    data_dir,\n",
        "    labels=\"inferred\",\n",
        "    label_mode=\"int\",\n",
        "    validation_split=0.1,\n",
        "    subset=\"training\",\n",
        "    shuffle=True,\n",
        "    color_mode=\"rgb\",\n",
        "    image_size=(256,256),\n",
        "    batch_size=64,\n",
        "    seed=40\n",
        ")"
      ]
    },
    {
      "cell_type": "code",
      "execution_count": null,
      "metadata": {
        "colab": {
          "base_uri": "https://localhost:8080/"
        },
        "execution": {
          "iopub.execute_input": "2024-11-05T21:13:23.282217Z",
          "iopub.status.busy": "2024-11-05T21:13:23.281774Z",
          "iopub.status.idle": "2024-11-05T21:13:23.288613Z",
          "shell.execute_reply": "2024-11-05T21:13:23.287483Z",
          "shell.execute_reply.started": "2024-11-05T21:13:23.282168Z"
        },
        "id": "woyNWwopNSqy",
        "outputId": "9633bca0-c1b4-4595-e0e2-33f5e87781cf",
        "trusted": true
      },
      "outputs": [
        {
          "name": "stdout",
          "output_type": "stream",
          "text": [
            "Class names: ['Avulsion fracture', 'Comminuted fracture', 'Fracture Dislocation', 'Greenstick fracture', 'Hairline Fracture', 'Impacted fracture', 'Longitudinal fracture', 'Oblique fracture', 'Pathological fracture', 'Spiral Fracture']\n"
          ]
        }
      ],
      "source": [
        "class_names = train_data.class_names\n",
        "print(\"Class names:\", class_names)"
      ]
    },
    {
      "cell_type": "code",
      "execution_count": null,
      "metadata": {
        "execution": {
          "iopub.execute_input": "2024-11-05T21:13:23.290915Z",
          "iopub.status.busy": "2024-11-05T21:13:23.290266Z",
          "iopub.status.idle": "2024-11-05T21:13:24.614300Z",
          "shell.execute_reply": "2024-11-05T21:13:24.613253Z",
          "shell.execute_reply.started": "2024-11-05T21:13:23.290853Z"
        },
        "id": "ZrL9l4mjNSqy",
        "trusted": true
      },
      "outputs": [],
      "source": [
        "val_x=[]\n",
        "val_y=[]\n",
        "for image,label in train_data:\n",
        "   val_x.append(image)\n",
        "   val_y.append(label)\n",
        "val_x = tf.concat(val_x, axis=0)\n",
        "val_y = tf.concat(val_y, axis=0)"
      ]
    },
    {
      "cell_type": "code",
      "execution_count": null,
      "metadata": {
        "execution": {
          "iopub.execute_input": "2024-11-05T21:13:24.616394Z",
          "iopub.status.busy": "2024-11-05T21:13:24.615950Z",
          "iopub.status.idle": "2024-11-05T21:13:24.624616Z",
          "shell.execute_reply": "2024-11-05T21:13:24.623523Z",
          "shell.execute_reply.started": "2024-11-05T21:13:24.616325Z"
        },
        "id": "51ii7HmuNSqy",
        "trusted": true
      },
      "outputs": [],
      "source": [
        "num_classes = 10\n",
        "train_y = tf.keras.utils.to_categorical(train_y, num_classes=num_classes)\n",
        "val_y = tf.keras.utils.to_categorical(val_y, num_classes=num_classes)"
      ]
    },
    {
      "cell_type": "code",
      "execution_count": null,
      "metadata": {
        "colab": {
          "base_uri": "https://localhost:8080/"
        },
        "execution": {
          "iopub.execute_input": "2024-11-05T21:13:24.628757Z",
          "iopub.status.busy": "2024-11-05T21:13:24.628347Z",
          "iopub.status.idle": "2024-11-05T21:13:24.719213Z",
          "shell.execute_reply": "2024-11-05T21:13:24.717986Z",
          "shell.execute_reply.started": "2024-11-05T21:13:24.628718Z"
        },
        "id": "X6l8yi1dNSqy",
        "outputId": "cf724982-b561-48d6-a8ca-9734138db5f3",
        "trusted": true
      },
      "outputs": [
        {
          "name": "stderr",
          "output_type": "stream",
          "text": [
            "/usr/local/lib/python3.11/dist-packages/keras/src/layers/convolutional/base_conv.py:107: UserWarning: Do not pass an `input_shape`/`input_dim` argument to a layer. When using Sequential models, prefer using an `Input(shape)` object as the first layer in the model instead.\n",
            "  super().__init__(activity_regularizer=activity_regularizer, **kwargs)\n"
          ]
        }
      ],
      "source": [
        "model = Sequential()\n",
        "model.add(Conv2D(60, (3, 3), activation='relu', input_shape=(256, 256, 3)))\n",
        "\n",
        "model.add(MaxPooling2D((2, 2)))\n",
        "\n",
        "model.add(Conv2D(120, (3, 3), activation='relu'))\n",
        "\n",
        "model.add(MaxPooling2D((2, 2)))\n",
        "model.add(Flatten())\n",
        "model.add(Dense(40, activation='relu'))\n",
        "model.add(Dense(10, activation='softmax'))"
      ]
    },
    {
      "cell_type": "code",
      "execution_count": null,
      "metadata": {
        "colab": {
          "base_uri": "https://localhost:8080/",
          "height": 374
        },
        "execution": {
          "iopub.execute_input": "2024-11-05T21:17:14.265611Z",
          "iopub.status.busy": "2024-11-05T21:17:14.265130Z",
          "iopub.status.idle": "2024-11-05T21:17:14.295144Z",
          "shell.execute_reply": "2024-11-05T21:17:14.294137Z",
          "shell.execute_reply.started": "2024-11-05T21:17:14.265562Z"
        },
        "id": "mt8t8_qCNSqz",
        "outputId": "18f90581-19e5-42e5-f93b-c48742d3d824",
        "trusted": true
      },
      "outputs": [
        {
          "data": {
            "text/html": [
              "<pre style=\"white-space:pre;overflow-x:auto;line-height:normal;font-family:Menlo,'DejaVu Sans Mono',consolas,'Courier New',monospace\"><span style=\"font-weight: bold\">Model: \"sequential\"</span>\n",
              "</pre>\n"
            ],
            "text/plain": [
              "\u001b[1mModel: \"sequential\"\u001b[0m\n"
            ]
          },
          "metadata": {},
          "output_type": "display_data"
        },
        {
          "data": {
            "text/html": [
              "<pre style=\"white-space:pre;overflow-x:auto;line-height:normal;font-family:Menlo,'DejaVu Sans Mono',consolas,'Courier New',monospace\">┏━━━━━━━━━━━━━━━━━━━━━━━━━━━━━━━━━━━━━━┳━━━━━━━━━━━━━━━━━━━━━━━━━━━━━┳━━━━━━━━━━━━━━━━━┓\n",
              "┃<span style=\"font-weight: bold\"> Layer (type)                         </span>┃<span style=\"font-weight: bold\"> Output Shape                </span>┃<span style=\"font-weight: bold\">         Param # </span>┃\n",
              "┡━━━━━━━━━━━━━━━━━━━━━━━━━━━━━━━━━━━━━━╇━━━━━━━━━━━━━━━━━━━━━━━━━━━━━╇━━━━━━━━━━━━━━━━━┩\n",
              "│ conv2d (<span style=\"color: #0087ff; text-decoration-color: #0087ff\">Conv2D</span>)                      │ (<span style=\"color: #00d7ff; text-decoration-color: #00d7ff\">None</span>, <span style=\"color: #00af00; text-decoration-color: #00af00\">254</span>, <span style=\"color: #00af00; text-decoration-color: #00af00\">254</span>, <span style=\"color: #00af00; text-decoration-color: #00af00\">60</span>)        │           <span style=\"color: #00af00; text-decoration-color: #00af00\">1,680</span> │\n",
              "├──────────────────────────────────────┼─────────────────────────────┼─────────────────┤\n",
              "│ max_pooling2d (<span style=\"color: #0087ff; text-decoration-color: #0087ff\">MaxPooling2D</span>)         │ (<span style=\"color: #00d7ff; text-decoration-color: #00d7ff\">None</span>, <span style=\"color: #00af00; text-decoration-color: #00af00\">127</span>, <span style=\"color: #00af00; text-decoration-color: #00af00\">127</span>, <span style=\"color: #00af00; text-decoration-color: #00af00\">60</span>)        │               <span style=\"color: #00af00; text-decoration-color: #00af00\">0</span> │\n",
              "├──────────────────────────────────────┼─────────────────────────────┼─────────────────┤\n",
              "│ conv2d_1 (<span style=\"color: #0087ff; text-decoration-color: #0087ff\">Conv2D</span>)                    │ (<span style=\"color: #00d7ff; text-decoration-color: #00d7ff\">None</span>, <span style=\"color: #00af00; text-decoration-color: #00af00\">125</span>, <span style=\"color: #00af00; text-decoration-color: #00af00\">125</span>, <span style=\"color: #00af00; text-decoration-color: #00af00\">120</span>)       │          <span style=\"color: #00af00; text-decoration-color: #00af00\">64,920</span> │\n",
              "├──────────────────────────────────────┼─────────────────────────────┼─────────────────┤\n",
              "│ max_pooling2d_1 (<span style=\"color: #0087ff; text-decoration-color: #0087ff\">MaxPooling2D</span>)       │ (<span style=\"color: #00d7ff; text-decoration-color: #00d7ff\">None</span>, <span style=\"color: #00af00; text-decoration-color: #00af00\">62</span>, <span style=\"color: #00af00; text-decoration-color: #00af00\">62</span>, <span style=\"color: #00af00; text-decoration-color: #00af00\">120</span>)         │               <span style=\"color: #00af00; text-decoration-color: #00af00\">0</span> │\n",
              "├──────────────────────────────────────┼─────────────────────────────┼─────────────────┤\n",
              "│ flatten (<span style=\"color: #0087ff; text-decoration-color: #0087ff\">Flatten</span>)                    │ (<span style=\"color: #00d7ff; text-decoration-color: #00d7ff\">None</span>, <span style=\"color: #00af00; text-decoration-color: #00af00\">461280</span>)              │               <span style=\"color: #00af00; text-decoration-color: #00af00\">0</span> │\n",
              "├──────────────────────────────────────┼─────────────────────────────┼─────────────────┤\n",
              "│ dense (<span style=\"color: #0087ff; text-decoration-color: #0087ff\">Dense</span>)                        │ (<span style=\"color: #00d7ff; text-decoration-color: #00d7ff\">None</span>, <span style=\"color: #00af00; text-decoration-color: #00af00\">40</span>)                  │      <span style=\"color: #00af00; text-decoration-color: #00af00\">18,451,240</span> │\n",
              "├──────────────────────────────────────┼─────────────────────────────┼─────────────────┤\n",
              "│ dense_1 (<span style=\"color: #0087ff; text-decoration-color: #0087ff\">Dense</span>)                      │ (<span style=\"color: #00d7ff; text-decoration-color: #00d7ff\">None</span>, <span style=\"color: #00af00; text-decoration-color: #00af00\">10</span>)                  │             <span style=\"color: #00af00; text-decoration-color: #00af00\">410</span> │\n",
              "└──────────────────────────────────────┴─────────────────────────────┴─────────────────┘\n",
              "</pre>\n"
            ],
            "text/plain": [
              "┏━━━━━━━━━━━━━━━━━━━━━━━━━━━━━━━━━━━━━━┳━━━━━━━━━━━━━━━━━━━━━━━━━━━━━┳━━━━━━━━━━━━━━━━━┓\n",
              "┃\u001b[1m \u001b[0m\u001b[1mLayer (type)                        \u001b[0m\u001b[1m \u001b[0m┃\u001b[1m \u001b[0m\u001b[1mOutput Shape               \u001b[0m\u001b[1m \u001b[0m┃\u001b[1m \u001b[0m\u001b[1m        Param #\u001b[0m\u001b[1m \u001b[0m┃\n",
              "┡━━━━━━━━━━━━━━━━━━━━━━━━━━━━━━━━━━━━━━╇━━━━━━━━━━━━━━━━━━━━━━━━━━━━━╇━━━━━━━━━━━━━━━━━┩\n",
              "│ conv2d (\u001b[38;5;33mConv2D\u001b[0m)                      │ (\u001b[38;5;45mNone\u001b[0m, \u001b[38;5;34m254\u001b[0m, \u001b[38;5;34m254\u001b[0m, \u001b[38;5;34m60\u001b[0m)        │           \u001b[38;5;34m1,680\u001b[0m │\n",
              "├──────────────────────────────────────┼─────────────────────────────┼─────────────────┤\n",
              "│ max_pooling2d (\u001b[38;5;33mMaxPooling2D\u001b[0m)         │ (\u001b[38;5;45mNone\u001b[0m, \u001b[38;5;34m127\u001b[0m, \u001b[38;5;34m127\u001b[0m, \u001b[38;5;34m60\u001b[0m)        │               \u001b[38;5;34m0\u001b[0m │\n",
              "├──────────────────────────────────────┼─────────────────────────────┼─────────────────┤\n",
              "│ conv2d_1 (\u001b[38;5;33mConv2D\u001b[0m)                    │ (\u001b[38;5;45mNone\u001b[0m, \u001b[38;5;34m125\u001b[0m, \u001b[38;5;34m125\u001b[0m, \u001b[38;5;34m120\u001b[0m)       │          \u001b[38;5;34m64,920\u001b[0m │\n",
              "├──────────────────────────────────────┼─────────────────────────────┼─────────────────┤\n",
              "│ max_pooling2d_1 (\u001b[38;5;33mMaxPooling2D\u001b[0m)       │ (\u001b[38;5;45mNone\u001b[0m, \u001b[38;5;34m62\u001b[0m, \u001b[38;5;34m62\u001b[0m, \u001b[38;5;34m120\u001b[0m)         │               \u001b[38;5;34m0\u001b[0m │\n",
              "├──────────────────────────────────────┼─────────────────────────────┼─────────────────┤\n",
              "│ flatten (\u001b[38;5;33mFlatten\u001b[0m)                    │ (\u001b[38;5;45mNone\u001b[0m, \u001b[38;5;34m461280\u001b[0m)              │               \u001b[38;5;34m0\u001b[0m │\n",
              "├──────────────────────────────────────┼─────────────────────────────┼─────────────────┤\n",
              "│ dense (\u001b[38;5;33mDense\u001b[0m)                        │ (\u001b[38;5;45mNone\u001b[0m, \u001b[38;5;34m40\u001b[0m)                  │      \u001b[38;5;34m18,451,240\u001b[0m │\n",
              "├──────────────────────────────────────┼─────────────────────────────┼─────────────────┤\n",
              "│ dense_1 (\u001b[38;5;33mDense\u001b[0m)                      │ (\u001b[38;5;45mNone\u001b[0m, \u001b[38;5;34m10\u001b[0m)                  │             \u001b[38;5;34m410\u001b[0m │\n",
              "└──────────────────────────────────────┴─────────────────────────────┴─────────────────┘\n"
            ]
          },
          "metadata": {},
          "output_type": "display_data"
        },
        {
          "data": {
            "text/html": [
              "<pre style=\"white-space:pre;overflow-x:auto;line-height:normal;font-family:Menlo,'DejaVu Sans Mono',consolas,'Courier New',monospace\"><span style=\"font-weight: bold\"> Total params: </span><span style=\"color: #00af00; text-decoration-color: #00af00\">18,518,250</span> (70.64 MB)\n",
              "</pre>\n"
            ],
            "text/plain": [
              "\u001b[1m Total params: \u001b[0m\u001b[38;5;34m18,518,250\u001b[0m (70.64 MB)\n"
            ]
          },
          "metadata": {},
          "output_type": "display_data"
        },
        {
          "data": {
            "text/html": [
              "<pre style=\"white-space:pre;overflow-x:auto;line-height:normal;font-family:Menlo,'DejaVu Sans Mono',consolas,'Courier New',monospace\"><span style=\"font-weight: bold\"> Trainable params: </span><span style=\"color: #00af00; text-decoration-color: #00af00\">18,518,250</span> (70.64 MB)\n",
              "</pre>\n"
            ],
            "text/plain": [
              "\u001b[1m Trainable params: \u001b[0m\u001b[38;5;34m18,518,250\u001b[0m (70.64 MB)\n"
            ]
          },
          "metadata": {},
          "output_type": "display_data"
        },
        {
          "data": {
            "text/html": [
              "<pre style=\"white-space:pre;overflow-x:auto;line-height:normal;font-family:Menlo,'DejaVu Sans Mono',consolas,'Courier New',monospace\"><span style=\"font-weight: bold\"> Non-trainable params: </span><span style=\"color: #00af00; text-decoration-color: #00af00\">0</span> (0.00 B)\n",
              "</pre>\n"
            ],
            "text/plain": [
              "\u001b[1m Non-trainable params: \u001b[0m\u001b[38;5;34m0\u001b[0m (0.00 B)\n"
            ]
          },
          "metadata": {},
          "output_type": "display_data"
        }
      ],
      "source": [
        "model.summary()"
      ]
    },
    {
      "cell_type": "code",
      "execution_count": null,
      "metadata": {
        "execution": {
          "iopub.execute_input": "2024-11-05T21:13:24.721178Z",
          "iopub.status.busy": "2024-11-05T21:13:24.720721Z",
          "iopub.status.idle": "2024-11-05T21:13:24.731729Z",
          "shell.execute_reply": "2024-11-05T21:13:24.730707Z",
          "shell.execute_reply.started": "2024-11-05T21:13:24.721128Z"
        },
        "id": "w53-SInENSqz",
        "trusted": true
      },
      "outputs": [],
      "source": [
        "model.compile(optimizer=Adam(learning_rate=0.001),\n",
        "              loss='categorical_crossentropy',\n",
        "              metrics=['accuracy'])"
      ]
    },
    {
      "cell_type": "code",
      "execution_count": null,
      "metadata": {
        "colab": {
          "base_uri": "https://localhost:8080/"
        },
        "execution": {
          "iopub.execute_input": "2024-11-05T21:13:24.734104Z",
          "iopub.status.busy": "2024-11-05T21:13:24.733210Z",
          "iopub.status.idle": "2024-11-05T21:14:03.494583Z",
          "shell.execute_reply": "2024-11-05T21:14:03.493396Z",
          "shell.execute_reply.started": "2024-11-05T21:13:24.734052Z"
        },
        "id": "LoxYNDWNNSqz",
        "outputId": "0684dddf-9e15-4eae-9475-6f2f9beb5d9c",
        "trusted": true
      },
      "outputs": [
        {
          "name": "stdout",
          "output_type": "stream",
          "text": [
            "Epoch 1/10\n",
            "\u001b[1m102/102\u001b[0m \u001b[32m━━━━━━━━━━━━━━━━━━━━\u001b[0m\u001b[37m\u001b[0m \u001b[1m275s\u001b[0m 3s/step - accuracy: 0.1312 - loss: 2.9321\n",
            "Epoch 2/10\n",
            "\u001b[1m102/102\u001b[0m \u001b[32m━━━━━━━━━━━━━━━━━━━━\u001b[0m\u001b[37m\u001b[0m \u001b[1m271s\u001b[0m 3s/step - accuracy: 0.1902 - loss: 2.2590\n",
            "Epoch 3/10\n",
            "\u001b[1m102/102\u001b[0m \u001b[32m━━━━━━━━━━━━━━━━━━━━\u001b[0m\u001b[37m\u001b[0m \u001b[1m320s\u001b[0m 3s/step - accuracy: 0.3708 - loss: 1.9658\n",
            "Epoch 4/10\n",
            "\u001b[1m102/102\u001b[0m \u001b[32m━━━━━━━━━━━━━━━━━━━━\u001b[0m\u001b[37m\u001b[0m \u001b[1m320s\u001b[0m 3s/step - accuracy: 0.6162 - loss: 1.2538\n",
            "Epoch 5/10\n",
            "\u001b[1m102/102\u001b[0m \u001b[32m━━━━━━━━━━━━━━━━━━━━\u001b[0m\u001b[37m\u001b[0m \u001b[1m323s\u001b[0m 3s/step - accuracy: 0.8388 - loss: 0.6406\n",
            "Epoch 6/10\n",
            "\u001b[1m102/102\u001b[0m \u001b[32m━━━━━━━━━━━━━━━━━━━━\u001b[0m\u001b[37m\u001b[0m \u001b[1m274s\u001b[0m 3s/step - accuracy: 0.9315 - loss: 0.3226\n",
            "Epoch 7/10\n",
            "\u001b[1m102/102\u001b[0m \u001b[32m━━━━━━━━━━━━━━━━━━━━\u001b[0m\u001b[37m\u001b[0m \u001b[1m317s\u001b[0m 3s/step - accuracy: 0.9704 - loss: 0.1670\n",
            "Epoch 8/10\n",
            "\u001b[1m102/102\u001b[0m \u001b[32m━━━━━━━━━━━━━━━━━━━━\u001b[0m\u001b[37m\u001b[0m \u001b[1m337s\u001b[0m 3s/step - accuracy: 0.9718 - loss: 0.1568\n",
            "Epoch 9/10\n",
            "\u001b[1m102/102\u001b[0m \u001b[32m━━━━━━━━━━━━━━━━━━━━\u001b[0m\u001b[37m\u001b[0m \u001b[1m308s\u001b[0m 3s/step - accuracy: 0.9826 - loss: 0.1578\n",
            "Epoch 10/10\n",
            "\u001b[1m102/102\u001b[0m \u001b[32m━━━━━━━━━━━━━━━━━━━━\u001b[0m\u001b[37m\u001b[0m \u001b[1m321s\u001b[0m 3s/step - accuracy: 0.9953 - loss: 0.0521\n"
          ]
        }
      ],
      "source": [
        "history = model.fit(train_x, train_y, batch_size=10, epochs=10)"
      ]
    },
    {
      "cell_type": "code",
      "execution_count": null,
      "metadata": {
        "colab": {
          "base_uri": "https://localhost:8080/"
        },
        "execution": {
          "iopub.execute_input": "2024-11-05T21:14:03.501456Z",
          "iopub.status.busy": "2024-11-05T21:14:03.496295Z",
          "iopub.status.idle": "2024-11-05T21:14:06.837695Z",
          "shell.execute_reply": "2024-11-05T21:14:06.836578Z",
          "shell.execute_reply.started": "2024-11-05T21:14:03.501385Z"
        },
        "id": "5pM-gzqhNSq0",
        "outputId": "cdb5ae34-f51e-4f74-cc9d-3752b00bba3d",
        "trusted": true
      },
      "outputs": [
        {
          "name": "stdout",
          "output_type": "stream",
          "text": [
            "Training Accuracy: 99.41%\n",
            "Test Accuracy: 99.41%\n"
          ]
        }
      ],
      "source": [
        "train_loss, train_accuracy = model.evaluate(train_x,train_y, verbose=0)\n",
        "print(f\"Training Accuracy: {train_accuracy * 100:.2f}%\")\n",
        "\n",
        "test_loss, test_accuracy = model.evaluate(val_x,val_y, verbose=0)\n",
        "print(f\"Test Accuracy: {test_accuracy * 100:.2f}%\")"
      ]
    },
    {
      "cell_type": "code",
      "execution_count": null,
      "metadata": {
        "colab": {
          "base_uri": "https://localhost:8080/"
        },
        "execution": {
          "iopub.execute_input": "2024-11-05T21:14:06.839382Z",
          "iopub.status.busy": "2024-11-05T21:14:06.839028Z",
          "iopub.status.idle": "2024-11-05T21:14:07.943230Z",
          "shell.execute_reply": "2024-11-05T21:14:07.942112Z",
          "shell.execute_reply.started": "2024-11-05T21:14:06.839345Z"
        },
        "id": "OJq-nJN2NSq0",
        "outputId": "ddef23fa-2b0d-4d35-af73-63d5972729ff",
        "trusted": true
      },
      "outputs": [
        {
          "name": "stdout",
          "output_type": "stream",
          "text": [
            "\u001b[1m32/32\u001b[0m \u001b[32m━━━━━━━━━━━━━━━━━━━━\u001b[0m\u001b[37m\u001b[0m \u001b[1m74s\u001b[0m 2s/step\n"
          ]
        }
      ],
      "source": [
        "CLASSES = np.array(class_names)\n",
        "\n",
        "preds = model.predict(val_x)"
      ]
    },
    {
      "cell_type": "code",
      "execution_count": null,
      "metadata": {
        "execution": {
          "iopub.execute_input": "2024-11-05T21:14:07.945940Z",
          "iopub.status.busy": "2024-11-05T21:14:07.945111Z",
          "iopub.status.idle": "2024-11-05T21:14:07.951919Z",
          "shell.execute_reply": "2024-11-05T21:14:07.950736Z",
          "shell.execute_reply.started": "2024-11-05T21:14:07.945885Z"
        },
        "id": "g1FuBZfZNSq0",
        "trusted": true
      },
      "outputs": [],
      "source": [
        "preds_single = CLASSES[np.argmax(preds, axis=-1)]\n",
        "actual_single = CLASSES[np.argmax(val_y, axis=-1)]"
      ]
    },
    {
      "cell_type": "code",
      "execution_count": null,
      "metadata": {
        "execution": {
          "iopub.execute_input": "2024-11-05T21:16:28.213098Z",
          "iopub.status.busy": "2024-11-05T21:16:28.212630Z",
          "iopub.status.idle": "2024-11-05T21:16:28.223278Z",
          "shell.execute_reply": "2024-11-05T21:16:28.221901Z",
          "shell.execute_reply.started": "2024-11-05T21:16:28.213058Z"
        },
        "id": "DHRoGIb7NSq1",
        "trusted": true
      },
      "outputs": [],
      "source": [
        "def display_preds_act(n=10, figsize=(15, 3)):\n",
        "    indices = np.random.choice(range(len(val_x)), n)  # Sample from images, not labels\n",
        "\n",
        "    fig = plt.figure(figsize=figsize)\n",
        "    fig.subplots_adjust(wspace=0.5, hspace=0.5)\n",
        "\n",
        "    for i, idx in enumerate(indices):\n",
        "        img = val_x[idx]  # Retrieve the image data\n",
        "        ax = fig.add_subplot(1, n, i + 1)\n",
        "        ax.axis(\"off\")\n",
        "        ax.text(0.5, -0.35, \"pred = \" + str(preds_single[idx].split(\" \")[0][:4]), fontsize=10, ha=\"center\", transform=ax.transAxes)\n",
        "        ax.text(0.5, -0.7, \"act = \" + str(actual_single[idx].split(\" \")[0][:4]), fontsize=10, ha=\"center\", transform=ax.transAxes)\n",
        "        ax.imshow(img)  # Display the image\n",
        "\n",
        "    plt.show()\n"
      ]
    },
    {
      "cell_type": "code",
      "execution_count": null,
      "metadata": {
        "colab": {
          "base_uri": "https://localhost:8080/",
          "height": 368
        },
        "execution": {
          "iopub.execute_input": "2024-11-05T21:16:30.150181Z",
          "iopub.status.busy": "2024-11-05T21:16:30.149773Z",
          "iopub.status.idle": "2024-11-05T21:16:30.623928Z",
          "shell.execute_reply": "2024-11-05T21:16:30.622824Z",
          "shell.execute_reply.started": "2024-11-05T21:16:30.150143Z"
        },
        "id": "G4xLSl2BNSq1",
        "outputId": "bc60072d-dcb2-456f-e2f2-3ab44857093f",
        "trusted": true
      },
      "outputs": [
        {
          "name": "stderr",
          "output_type": "stream",
          "text": [
            "WARNING:matplotlib.image:Clipping input data to the valid range for imshow with RGB data ([0..1] for floats or [0..255] for integers). Got range [0.0..204.03636].\n",
            "WARNING:matplotlib.image:Clipping input data to the valid range for imshow with RGB data ([0..1] for floats or [0..255] for integers). Got range [0.0..242.98975].\n",
            "WARNING:matplotlib.image:Clipping input data to the valid range for imshow with RGB data ([0..1] for floats or [0..255] for integers). Got range [0.0..255.0].\n",
            "WARNING:matplotlib.image:Clipping input data to the valid range for imshow with RGB data ([0..1] for floats or [0..255] for integers). Got range [0.0..255.0].\n",
            "WARNING:matplotlib.image:Clipping input data to the valid range for imshow with RGB data ([0..1] for floats or [0..255] for integers). Got range [0.0..255.0].\n",
            "WARNING:matplotlib.image:Clipping input data to the valid range for imshow with RGB data ([0..1] for floats or [0..255] for integers). Got range [0.0..166.25].\n",
            "WARNING:matplotlib.image:Clipping input data to the valid range for imshow with RGB data ([0..1] for floats or [0..255] for integers). Got range [5.878418..219.26465].\n",
            "WARNING:matplotlib.image:Clipping input data to the valid range for imshow with RGB data ([0..1] for floats or [0..255] for integers). Got range [0.0..205.17969].\n",
            "WARNING:matplotlib.image:Clipping input data to the valid range for imshow with RGB data ([0..1] for floats or [0..255] for integers). Got range [0.0..253.75].\n",
            "WARNING:matplotlib.image:Clipping input data to the valid range for imshow with RGB data ([0..1] for floats or [0..255] for integers). Got range [0.0..180.5].\n"
          ]
        },
        {
          "data": {
            "image/png": "[encoded data removed]",
            "text/plain": [
              "<Figure size 1500x300 with 10 Axes>"
            ]
          },
          "metadata": {},
          "output_type": "display_data"
        }
      ],
      "source": [
        "display_preds_act(n=10)"
      ]
    },
    {
      "cell_type": "code",
      "execution_count": null,
      "metadata": {
        "colab": {
          "base_uri": "https://localhost:8080/",
          "height": 487
        },
        "execution": {
          "iopub.execute_input": "2024-11-05T21:14:08.598354Z",
          "iopub.status.busy": "2024-11-05T21:14:08.597634Z",
          "iopub.status.idle": "2024-11-05T21:14:09.125270Z",
          "shell.execute_reply": "2024-11-05T21:14:09.124218Z",
          "shell.execute_reply.started": "2024-11-05T21:14:08.598303Z"
        },
        "id": "ZHqC1WSlNSq1",
        "outputId": "0f82c48e-26de-412a-cefd-efa074c43b14",
        "trusted": true
      },
      "outputs": [
        {
          "data": {
            "image/png": "[encoded data removed]",
            "text/plain": [
              "<Figure size 640x480 with 2 Axes>"
            ]
          },
          "metadata": {},
          "output_type": "display_data"
        }
      ],
      "source": [
        "fig, ax1 = plt.subplots()\n",
        "\n",
        "ax1.set_xlabel('Epoch')\n",
        "ax1.set_ylabel('Loss', color='tab:red')\n",
        "ax1.plot(history.history['loss'], color='tab:red', label='Train Loss')\n",
        "ax1.tick_params(axis='y', labelcolor='tab:red')\n",
        "\n",
        "ax2 = ax1.twinx()\n",
        "ax2.set_ylabel('Accuracy', color='tab:blue')\n",
        "ax2.plot(history.history['accuracy'], color='tab:blue', label='Train Accuracy')\n",
        "ax2.tick_params(axis='y', labelcolor='tab:blue')\n",
        "\n",
        "plt.title('Training Loss and Accuracy')\n",
        "fig.tight_layout()\n",
        "plt.show()"
      ]
    },
    {
      "cell_type": "code",
      "execution_count": null,
      "metadata": {
        "colab": {
          "base_uri": "https://localhost:8080/"
        },
        "execution": {
          "iopub.execute_input": "2024-11-05T21:14:09.127065Z",
          "iopub.status.busy": "2024-11-05T21:14:09.126704Z",
          "iopub.status.idle": "2024-11-05T21:14:09.930758Z",
          "shell.execute_reply": "2024-11-05T21:14:09.929524Z",
          "shell.execute_reply.started": "2024-11-05T21:14:09.127028Z"
        },
        "id": "XJjmTSARNSq1",
        "outputId": "8ec5fcbe-0a66-4413-9700-b1f7f930636d",
        "trusted": true
      },
      "outputs": [
        {
          "name": "stdout",
          "output_type": "stream",
          "text": [
            "\u001b[1m32/32\u001b[0m \u001b[32m━━━━━━━━━━━━━━━━━━━━\u001b[0m\u001b[37m\u001b[0m \u001b[1m72s\u001b[0m 2s/step\n",
            "                       precision    recall  f1-score   support\n",
            "\n",
            "    Avulsion fracture       1.00      0.99      1.00       109\n",
            "  Comminuted fracture       1.00      0.99      1.00       127\n",
            " Fracture Dislocation       1.00      1.00      1.00       146\n",
            "  Greenstick fracture       0.99      1.00      1.00       112\n",
            "    Hairline Fracture       1.00      1.00      1.00       102\n",
            "    Impacted fracture       0.99      0.97      0.98        76\n",
            "Longitudinal fracture       1.00      0.99      0.99        76\n",
            "     Oblique fracture       0.99      1.00      0.99        75\n",
            "Pathological fracture       1.00      1.00      1.00       115\n",
            "      Spiral Fracture       0.96      0.99      0.97        79\n",
            "\n",
            "             accuracy                           0.99      1017\n",
            "            macro avg       0.99      0.99      0.99      1017\n",
            "         weighted avg       0.99      0.99      0.99      1017\n",
            "\n"
          ]
        }
      ],
      "source": [
        "y_pred = model.predict(val_x)\n",
        "y_pred_classes = np.argmax(y_pred, axis=1)\n",
        "y_true_classes = np.argmax(val_y, axis=1)\n",
        "\n",
        "class_names = [\n",
        "    'Avulsion fracture',\n",
        "    'Comminuted fracture',\n",
        "    'Fracture Dislocation',\n",
        "    'Greenstick fracture',\n",
        "    'Hairline Fracture',\n",
        "    'Impacted fracture',\n",
        "    'Longitudinal fracture',\n",
        "    'Oblique fracture',\n",
        "    'Pathological fracture',\n",
        "    'Spiral Fracture'\n",
        "]\n",
        "\n",
        "report = classification_report(y_true_classes, y_pred_classes, target_names=class_names)\n",
        "print(report)"
      ]
    },
    {
      "cell_type": "code",
      "execution_count": null,
      "metadata": {
        "colab": {
          "base_uri": "https://localhost:8080/"
        },
        "execution": {
          "iopub.execute_input": "2024-11-05T21:14:09.932990Z",
          "iopub.status.busy": "2024-11-05T21:14:09.932414Z",
          "iopub.status.idle": "2024-11-05T21:14:09.961839Z",
          "shell.execute_reply": "2024-11-05T21:14:09.960702Z",
          "shell.execute_reply.started": "2024-11-05T21:14:09.932937Z"
        },
        "id": "089SiMAFNSq1",
        "outputId": "683fb5cc-7d00-4061-ac4b-a5f04bbeba70",
        "trusted": true
      },
      "outputs": [
        {
          "name": "stdout",
          "output_type": "stream",
          "text": [
            "Precision per class: [1.         1.         1.         0.99115044 1.         0.98666667\n",
            " 1.         0.98684211 1.         0.96296296]\n",
            "Recall per class: [0.99082569 0.99212598 1.         1.         1.         0.97368421\n",
            " 0.98684211 1.         1.         0.98734177]\n",
            "F1 Score per class: [0.99539171 0.99604743 1.         0.99555556 1.         0.98013245\n",
            " 0.99337748 0.99337748 1.         0.975     ]\n",
            "Specificity per class: [np.float64(1.0), np.float64(1.0), np.float64(1.0), np.float64(0.9988950276243094), np.float64(1.0), np.float64(0.9989373007438895), np.float64(1.0), np.float64(0.9989384288747346), np.float64(1.0), np.float64(0.9968017057569296)]\n",
            "Cohen's Kappa Score: 0.9934062015420109\n",
            "Matthews Correlation Coefficient (MCC): 0.9934115697637312\n"
          ]
        }
      ],
      "source": [
        "conf_matrix = confusion_matrix(y_true_classes, y_pred_classes)\n",
        "\n",
        "# Calculate per-class metrics\n",
        "precision1 = precision_score(y_true_classes, y_pred_classes, average=None)\n",
        "recall1 = recall_score(y_true_classes, y_pred_classes, average=None)\n",
        "f11 = f1_score(y_true_classes, y_pred_classes, average=None)\n",
        "mcc1 = matthews_corrcoef(y_true_classes, y_pred_classes)\n",
        "kappa = cohen_kappa_score(y_true_classes, y_pred_classes)\n",
        "\n",
        "# For specificity, we need to compute it manually\n",
        "specificity1 = []\n",
        "for i in range(conf_matrix.shape[0]):\n",
        "    # True Negatives: sum all elements except the ith row and ith column\n",
        "    tn = np.sum(np.delete(np.delete(conf_matrix, i, axis=0), i, axis=1))\n",
        "    # False Positives: sum the ith column except the diagonal\n",
        "    fp = np.sum(conf_matrix[:, i]) - conf_matrix[i, i]\n",
        "    # False Negatives: sum the ith row except the diagonal\n",
        "    fn = np.sum(conf_matrix[i, :]) - conf_matrix[i, i]\n",
        "    # True Positives: diagonal element\n",
        "    tp = conf_matrix[i, i]\n",
        "    specificity1.append(tn / (tn + fp))\n",
        "print(f\"Precision per class: {precision1}\")\n",
        "print(f\"Recall per class: {recall1}\")\n",
        "print(f\"F1 Score per class: {f11}\")\n",
        "print(f\"Specificity per class: {specificity1}\")\n",
        "print(f\"Cohen's Kappa Score: {kappa}\")\n",
        "print(f\"Matthews Correlation Coefficient (MCC): {mcc1}\")\n",
        "\n"
      ]
    },
    {
      "cell_type": "code",
      "execution_count": null,
      "metadata": {
        "colab": {
          "base_uri": "https://localhost:8080/"
        },
        "execution": {
          "iopub.execute_input": "2024-11-05T21:14:09.963810Z",
          "iopub.status.busy": "2024-11-05T21:14:09.963322Z",
          "iopub.status.idle": "2024-11-05T21:14:09.970987Z",
          "shell.execute_reply": "2024-11-05T21:14:09.969868Z",
          "shell.execute_reply.started": "2024-11-05T21:14:09.963758Z"
        },
        "id": "BPShgvCRNSq2",
        "outputId": "b82a806b-f84d-48f9-bb97-0428a3242b80",
        "trusted": true
      },
      "outputs": [
        {
          "name": "stdout",
          "output_type": "stream",
          "text": [
            "[[108   0   0   0   0   0   0   1   0   0]\n",
            " [  0 126   0   0   0   0   0   0   0   1]\n",
            " [  0   0 146   0   0   0   0   0   0   0]\n",
            " [  0   0   0 112   0   0   0   0   0   0]\n",
            " [  0   0   0   0 102   0   0   0   0   0]\n",
            " [  0   0   0   1   0  74   0   0   0   1]\n",
            " [  0   0   0   0   0   0  75   0   0   1]\n",
            " [  0   0   0   0   0   0   0  75   0   0]\n",
            " [  0   0   0   0   0   0   0   0 115   0]\n",
            " [  0   0   0   0   0   1   0   0   0  78]]\n"
          ]
        }
      ],
      "source": [
        "print(conf_matrix)"
      ]
    },
    {
      "cell_type": "code",
      "execution_count": null,
      "metadata": {
        "execution": {
          "iopub.execute_input": "2024-11-05T21:14:09.978551Z",
          "iopub.status.busy": "2024-11-05T21:14:09.977751Z",
          "iopub.status.idle": "2024-11-05T21:14:09.985256Z",
          "shell.execute_reply": "2024-11-05T21:14:09.983882Z",
          "shell.execute_reply.started": "2024-11-05T21:14:09.978500Z"
        },
        "id": "x5koyDDHNSq2",
        "trusted": true
      },
      "outputs": [],
      "source": [
        "class_names_dict = {\n",
        "    0: 'Avulsion fracture',\n",
        "    1: 'Comminuted fracture',\n",
        "    2: 'Fracture Dislocation',\n",
        "    3: 'Greenstick fracture',\n",
        "    4: 'Hairline Fracture',\n",
        "    5: 'Impacted fracture',\n",
        "    6: 'Longitudinal fracture',\n",
        "    7: 'Oblique fracture',\n",
        "    8: 'Pathological fracture',\n",
        "    9: 'Spiral Fracture'\n",
        "}"
      ]
    },
    {
      "cell_type": "code",
      "execution_count": null,
      "metadata": {},
      "outputs": [],
      "source": []
    },
    {
      "cell_type": "code",
      "execution_count": null,
      "metadata": {
        "colab": {
          "base_uri": "https://localhost:8080/",
          "height": 776
        },
        "execution": {
          "iopub.execute_input": "2024-11-05T21:14:09.987335Z",
          "iopub.status.busy": "2024-11-05T21:14:09.986942Z",
          "iopub.status.idle": "2024-11-05T21:14:10.689452Z",
          "shell.execute_reply": "2024-11-05T21:14:10.688514Z",
          "shell.execute_reply.started": "2024-11-05T21:14:09.987290Z"
        },
        "id": "E-m36V86NSq2",
        "outputId": "3d861707-3a1c-45c5-dfae-dfccaf01159e",
        "trusted": true
      },
      "outputs": [
        {
          "data": {
            "image/png": "[encoded data removed]",
            "text/plain": [
              "<Figure size 1000x700 with 2 Axes>"
            ]
          },
          "metadata": {},
          "output_type": "display_data"
        }
      ],
      "source": [
        "plt.figure(figsize=(10, 7))\n",
        "sns.heatmap(conf_matrix, annot=True, fmt='d', cmap='Blues',\n",
        "            xticklabels=list(class_names_dict.values()),\n",
        "            yticklabels=list(class_names_dict.values()))\n",
        "plt.xlabel('Predicted Labels')\n",
        "plt.ylabel('True Labels')\n",
        "plt.title('Confusion Matrix Heatmap')\n",
        "plt.show()"
      ]
    },
    {
      "cell_type": "code",
      "execution_count": null,
      "metadata": {
        "id": "2478aSHcW7gW"
      },
      "outputs": [],
      "source": []
    },
    {
      "cell_type": "code",
      "execution_count": null,
      "metadata": {
        "colab": {
          "base_uri": "https://localhost:8080/"
        },
        "execution": {
          "iopub.execute_input": "2024-11-05T21:14:10.691288Z",
          "iopub.status.busy": "2024-11-05T21:14:10.690927Z",
          "iopub.status.idle": "2024-11-05T21:14:11.352703Z",
          "shell.execute_reply": "2024-11-05T21:14:11.351658Z",
          "shell.execute_reply.started": "2024-11-05T21:14:10.691248Z"
        },
        "id": "IwFqnUAHNSq2",
        "outputId": "b635371c-93e9-457c-82f6-b64e2cfe2d73",
        "trusted": true
      },
      "outputs": [
        {
          "name": "stderr",
          "output_type": "stream",
          "text": [
            "WARNING:absl:You are saving your model as an HDF5 file via `model.save()` or `keras.saving.save_model(model)`. This file format is considered legacy. We recommend using instead the native Keras format, e.g. `model.save('my_model.keras')` or `keras.saving.save_model(model, 'my_model.keras')`. \n"
          ]
        }
      ],
      "source": [
        "model.save(\"BONE NET V2.h5\")"
      ]
    },
    {
      "cell_type": "code",
      "execution_count": null,
      "metadata": {
        "colab": {
          "base_uri": "https://localhost:8080/",
          "height": 498
        },
        "id": "EVfLkH5cXBbH",
        "outputId": "d8c4a7bc-7177-4c9e-f6e1-60c89306db9b"
      },
      "outputs": [
        {
          "name": "stderr",
          "output_type": "stream",
          "text": [
            "WARNING:absl:Compiled the loaded model, but the compiled metrics have yet to be built. `model.compile_metrics` will be empty until you train or evaluate the model.\n"
          ]
        },
        {
          "name": "stdout",
          "output_type": "stream",
          "text": [
            "(None, 256, 256, 3)\n"
          ]
        },
        {
          "data": {
            "text/html": [
              "<pre style=\"white-space:pre;overflow-x:auto;line-height:normal;font-family:Menlo,'DejaVu Sans Mono',consolas,'Courier New',monospace\"><span style=\"font-weight: bold\">Model: \"sequential\"</span>\n",
              "</pre>\n"
            ],
            "text/plain": [
              "\u001b[1mModel: \"sequential\"\u001b[0m\n"
            ]
          },
          "metadata": {},
          "output_type": "display_data"
        },
        {
          "data": {
            "text/html": [
              "<pre style=\"white-space:pre;overflow-x:auto;line-height:normal;font-family:Menlo,'DejaVu Sans Mono',consolas,'Courier New',monospace\">┏━━━━━━━━━━━━━━━━━━━━━━━━━━━━━━━━━━━━━━┳━━━━━━━━━━━━━━━━━━━━━━━━━━━━━┳━━━━━━━━━━━━━━━━━┓\n",
              "┃<span style=\"font-weight: bold\"> Layer (type)                         </span>┃<span style=\"font-weight: bold\"> Output Shape                </span>┃<span style=\"font-weight: bold\">         Param # </span>┃\n",
              "┡━━━━━━━━━━━━━━━━━━━━━━━━━━━━━━━━━━━━━━╇━━━━━━━━━━━━━━━━━━━━━━━━━━━━━╇━━━━━━━━━━━━━━━━━┩\n",
              "│ conv2d (<span style=\"color: #0087ff; text-decoration-color: #0087ff\">Conv2D</span>)                      │ (<span style=\"color: #00d7ff; text-decoration-color: #00d7ff\">None</span>, <span style=\"color: #00af00; text-decoration-color: #00af00\">254</span>, <span style=\"color: #00af00; text-decoration-color: #00af00\">254</span>, <span style=\"color: #00af00; text-decoration-color: #00af00\">60</span>)        │           <span style=\"color: #00af00; text-decoration-color: #00af00\">1,680</span> │\n",
              "├──────────────────────────────────────┼─────────────────────────────┼─────────────────┤\n",
              "│ max_pooling2d (<span style=\"color: #0087ff; text-decoration-color: #0087ff\">MaxPooling2D</span>)         │ (<span style=\"color: #00d7ff; text-decoration-color: #00d7ff\">None</span>, <span style=\"color: #00af00; text-decoration-color: #00af00\">127</span>, <span style=\"color: #00af00; text-decoration-color: #00af00\">127</span>, <span style=\"color: #00af00; text-decoration-color: #00af00\">60</span>)        │               <span style=\"color: #00af00; text-decoration-color: #00af00\">0</span> │\n",
              "├──────────────────────────────────────┼─────────────────────────────┼─────────────────┤\n",
              "│ conv2d_1 (<span style=\"color: #0087ff; text-decoration-color: #0087ff\">Conv2D</span>)                    │ (<span style=\"color: #00d7ff; text-decoration-color: #00d7ff\">None</span>, <span style=\"color: #00af00; text-decoration-color: #00af00\">125</span>, <span style=\"color: #00af00; text-decoration-color: #00af00\">125</span>, <span style=\"color: #00af00; text-decoration-color: #00af00\">120</span>)       │          <span style=\"color: #00af00; text-decoration-color: #00af00\">64,920</span> │\n",
              "├──────────────────────────────────────┼─────────────────────────────┼─────────────────┤\n",
              "│ max_pooling2d_1 (<span style=\"color: #0087ff; text-decoration-color: #0087ff\">MaxPooling2D</span>)       │ (<span style=\"color: #00d7ff; text-decoration-color: #00d7ff\">None</span>, <span style=\"color: #00af00; text-decoration-color: #00af00\">62</span>, <span style=\"color: #00af00; text-decoration-color: #00af00\">62</span>, <span style=\"color: #00af00; text-decoration-color: #00af00\">120</span>)         │               <span style=\"color: #00af00; text-decoration-color: #00af00\">0</span> │\n",
              "├──────────────────────────────────────┼─────────────────────────────┼─────────────────┤\n",
              "│ flatten (<span style=\"color: #0087ff; text-decoration-color: #0087ff\">Flatten</span>)                    │ (<span style=\"color: #00d7ff; text-decoration-color: #00d7ff\">None</span>, <span style=\"color: #00af00; text-decoration-color: #00af00\">461280</span>)              │               <span style=\"color: #00af00; text-decoration-color: #00af00\">0</span> │\n",
              "├──────────────────────────────────────┼─────────────────────────────┼─────────────────┤\n",
              "│ dense (<span style=\"color: #0087ff; text-decoration-color: #0087ff\">Dense</span>)                        │ (<span style=\"color: #00d7ff; text-decoration-color: #00d7ff\">None</span>, <span style=\"color: #00af00; text-decoration-color: #00af00\">40</span>)                  │      <span style=\"color: #00af00; text-decoration-color: #00af00\">18,451,240</span> │\n",
              "├──────────────────────────────────────┼─────────────────────────────┼─────────────────┤\n",
              "│ dense_1 (<span style=\"color: #0087ff; text-decoration-color: #0087ff\">Dense</span>)                      │ (<span style=\"color: #00d7ff; text-decoration-color: #00d7ff\">None</span>, <span style=\"color: #00af00; text-decoration-color: #00af00\">10</span>)                  │             <span style=\"color: #00af00; text-decoration-color: #00af00\">410</span> │\n",
              "└──────────────────────────────────────┴─────────────────────────────┴─────────────────┘\n",
              "</pre>\n"
            ],
            "text/plain": [
              "┏━━━━━━━━━━━━━━━━━━━━━━━━━━━━━━━━━━━━━━┳━━━━━━━━━━━━━━━━━━━━━━━━━━━━━┳━━━━━━━━━━━━━━━━━┓\n",
              "┃\u001b[1m \u001b[0m\u001b[1mLayer (type)                        \u001b[0m\u001b[1m \u001b[0m┃\u001b[1m \u001b[0m\u001b[1mOutput Shape               \u001b[0m\u001b[1m \u001b[0m┃\u001b[1m \u001b[0m\u001b[1m        Param #\u001b[0m\u001b[1m \u001b[0m┃\n",
              "┡━━━━━━━━━━━━━━━━━━━━━━━━━━━━━━━━━━━━━━╇━━━━━━━━━━━━━━━━━━━━━━━━━━━━━╇━━━━━━━━━━━━━━━━━┩\n",
              "│ conv2d (\u001b[38;5;33mConv2D\u001b[0m)                      │ (\u001b[38;5;45mNone\u001b[0m, \u001b[38;5;34m254\u001b[0m, \u001b[38;5;34m254\u001b[0m, \u001b[38;5;34m60\u001b[0m)        │           \u001b[38;5;34m1,680\u001b[0m │\n",
              "├──────────────────────────────────────┼─────────────────────────────┼─────────────────┤\n",
              "│ max_pooling2d (\u001b[38;5;33mMaxPooling2D\u001b[0m)         │ (\u001b[38;5;45mNone\u001b[0m, \u001b[38;5;34m127\u001b[0m, \u001b[38;5;34m127\u001b[0m, \u001b[38;5;34m60\u001b[0m)        │               \u001b[38;5;34m0\u001b[0m │\n",
              "├──────────────────────────────────────┼─────────────────────────────┼─────────────────┤\n",
              "│ conv2d_1 (\u001b[38;5;33mConv2D\u001b[0m)                    │ (\u001b[38;5;45mNone\u001b[0m, \u001b[38;5;34m125\u001b[0m, \u001b[38;5;34m125\u001b[0m, \u001b[38;5;34m120\u001b[0m)       │          \u001b[38;5;34m64,920\u001b[0m │\n",
              "├──────────────────────────────────────┼─────────────────────────────┼─────────────────┤\n",
              "│ max_pooling2d_1 (\u001b[38;5;33mMaxPooling2D\u001b[0m)       │ (\u001b[38;5;45mNone\u001b[0m, \u001b[38;5;34m62\u001b[0m, \u001b[38;5;34m62\u001b[0m, \u001b[38;5;34m120\u001b[0m)         │               \u001b[38;5;34m0\u001b[0m │\n",
              "├──────────────────────────────────────┼─────────────────────────────┼─────────────────┤\n",
              "│ flatten (\u001b[38;5;33mFlatten\u001b[0m)                    │ (\u001b[38;5;45mNone\u001b[0m, \u001b[38;5;34m461280\u001b[0m)              │               \u001b[38;5;34m0\u001b[0m │\n",
              "├──────────────────────────────────────┼─────────────────────────────┼─────────────────┤\n",
              "│ dense (\u001b[38;5;33mDense\u001b[0m)                        │ (\u001b[38;5;45mNone\u001b[0m, \u001b[38;5;34m40\u001b[0m)                  │      \u001b[38;5;34m18,451,240\u001b[0m │\n",
              "├──────────────────────────────────────┼─────────────────────────────┼─────────────────┤\n",
              "│ dense_1 (\u001b[38;5;33mDense\u001b[0m)                      │ (\u001b[38;5;45mNone\u001b[0m, \u001b[38;5;34m10\u001b[0m)                  │             \u001b[38;5;34m410\u001b[0m │\n",
              "└──────────────────────────────────────┴─────────────────────────────┴─────────────────┘\n"
            ]
          },
          "metadata": {},
          "output_type": "display_data"
        },
        {
          "data": {
            "text/html": [
              "<pre style=\"white-space:pre;overflow-x:auto;line-height:normal;font-family:Menlo,'DejaVu Sans Mono',consolas,'Courier New',monospace\"><span style=\"font-weight: bold\"> Total params: </span><span style=\"color: #00af00; text-decoration-color: #00af00\">18,518,252</span> (70.64 MB)\n",
              "</pre>\n"
            ],
            "text/plain": [
              "\u001b[1m Total params: \u001b[0m\u001b[38;5;34m18,518,252\u001b[0m (70.64 MB)\n"
            ]
          },
          "metadata": {},
          "output_type": "display_data"
        },
        {
          "data": {
            "text/html": [
              "<pre style=\"white-space:pre;overflow-x:auto;line-height:normal;font-family:Menlo,'DejaVu Sans Mono',consolas,'Courier New',monospace\"><span style=\"font-weight: bold\"> Trainable params: </span><span style=\"color: #00af00; text-decoration-color: #00af00\">18,518,250</span> (70.64 MB)\n",
              "</pre>\n"
            ],
            "text/plain": [
              "\u001b[1m Trainable params: \u001b[0m\u001b[38;5;34m18,518,250\u001b[0m (70.64 MB)\n"
            ]
          },
          "metadata": {},
          "output_type": "display_data"
        },
        {
          "data": {
            "text/html": [
              "<pre style=\"white-space:pre;overflow-x:auto;line-height:normal;font-family:Menlo,'DejaVu Sans Mono',consolas,'Courier New',monospace\"><span style=\"font-weight: bold\"> Non-trainable params: </span><span style=\"color: #00af00; text-decoration-color: #00af00\">0</span> (0.00 B)\n",
              "</pre>\n"
            ],
            "text/plain": [
              "\u001b[1m Non-trainable params: \u001b[0m\u001b[38;5;34m0\u001b[0m (0.00 B)\n"
            ]
          },
          "metadata": {},
          "output_type": "display_data"
        },
        {
          "data": {
            "text/html": [
              "<pre style=\"white-space:pre;overflow-x:auto;line-height:normal;font-family:Menlo,'DejaVu Sans Mono',consolas,'Courier New',monospace\"><span style=\"font-weight: bold\"> Optimizer params: </span><span style=\"color: #00af00; text-decoration-color: #00af00\">2</span> (12.00 B)\n",
              "</pre>\n"
            ],
            "text/plain": [
              "\u001b[1m Optimizer params: \u001b[0m\u001b[38;5;34m2\u001b[0m (12.00 B)\n"
            ]
          },
          "metadata": {},
          "output_type": "display_data"
        },
        {
          "name": "stdout",
          "output_type": "stream",
          "text": [
            "None\n",
            "\u001b[1m1/1\u001b[0m \u001b[32m━━━━━━━━━━━━━━━━━━━━\u001b[0m\u001b[37m\u001b[0m \u001b[1m0s\u001b[0m 230ms/step\n",
            "Predicted Class: Oblique fracture, Confidence: 1.0000\n"
          ]
        }
      ],
      "source": [
        "import numpy as np\n",
        "import tensorflow as tf\n",
        "from tensorflow.keras.preprocessing import image\n",
        "\n",
        "# Load the trained model\n",
        "model = tf.keras.models.load_model(\"/content/BONE NET V2.h5\")\n",
        "print(model.input_shape)\n",
        "print(model.summary())\n",
        "# Define class labels (Ensure this matches the original class order)\n",
        "class_names = [\n",
        "    \"Avulsion fracture\", \"Comminuted fracture\", \"Fracture Dislocation\",\n",
        "    \"Greenstick fracture\", \"Hairline Fracture\", \"Impacted fracture\",\n",
        "    \"Longitudinal fracture\", \"Oblique fracture\", \"Pathological fracture\",\n",
        "    \"Spiral Fracture\"\n",
        "]\n",
        "\n",
        "# Function to predict a new image\n",
        "def predict_image(image_path):\n",
        "    img_size = (256, 256)  # Change to match model input size\n",
        "    img = image.load_img(image_path, target_size=img_size)  # Resize correctly\n",
        "    img_array = image.img_to_array(img) / 255.0  # Normalize pixel values\n",
        "    img_array = np.expand_dims(img_array, axis=0)  # Add batch dimension\n",
        "\n",
        "    prediction = model.predict(img_array)\n",
        "    class_index = np.argmax(prediction)\n",
        "    confidence = np.max(prediction)\n",
        "\n",
        "    return class_names[class_index], confidence\n",
        "\n",
        "# Provide an image path (Change this to your test image path)\n",
        "test_image_path = \"/content/Bone Break Classification/Bone Break Classification/Oblique fracture/Test/1000_F_264769365_u927dRxrrx1fi4rlR1VWif9LcGeJwv4h_jpg.rf.b2d149cb90da63cbc49ec73e82bf0935.jpg\"  # Update with actual image path\n",
        "predicted_label, confidence = predict_image(test_image_path)\n",
        "\n",
        "print(f\"Predicted Class: {predicted_label}, Confidence: {confidence:.4f}\")\n"
      ]
    }
  ],
  "metadata": {
    "colab": {
      "provenance": []
    },
    "kaggle": {
      "accelerator": "nvidiaTeslaT4",
      "dataSources": [
        {
          "datasetId": 4257126,
          "sourceId": 7394372,
          "sourceType": "datasetVersion"
        }
      ],
      "dockerImageVersionId": 30787,
      "isGpuEnabled": true,
      "isInternetEnabled": true,
      "language": "python",
      "sourceType": "notebook"
    },
    "kernelspec": {
      "display_name": "Python 3",
      "language": "python",
      "name": "python3"
    },
    "language_info": {
      "codemirror_mode": {
        "name": "ipython",
        "version": 3
      },
      "file_extension": ".py",
      "mimetype": "text/x-python",
      "name": "python",
      "nbconvert_exporter": "python",
      "pygments_lexer": "ipython3",
      "version": "3.11.8"
    }
  },
  "nbformat": 4,
  "nbformat_minor": 0
}
